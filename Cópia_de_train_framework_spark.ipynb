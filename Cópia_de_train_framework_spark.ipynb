{
  "cells": [
    {
      "cell_type": "markdown",
      "metadata": {
        "id": "view-in-github",
        "colab_type": "text"
      },
      "source": [
        "<a href=\"https://colab.research.google.com/github/MarquesThiago/analist/blob/main/C%C3%B3pia_de_train_framework_spark.ipynb\" target=\"_parent\"><img src=\"https://colab.research.google.com/assets/colab-badge.svg\" alt=\"Open In Colab\"/></a>"
      ]
    },
    {
      "cell_type": "code",
      "execution_count": 1,
      "metadata": {
        "id": "oa7jGYc4Ql1c"
      },
      "outputs": [],
      "source": [
        "# instalar as dependências\n",
        "!apt-get install openjdk-8-jdk-headless -qq > /dev/null\n",
        "!wget -q https://archive.apache.org/dist/spark/spark-2.4.4/spark-2.4.4-bin-hadoop2.7.tgz\n",
        "!tar xf spark-2.4.4-bin-hadoop2.7.tgz\n",
        "!pip install -q findspark\n"
      ]
    },
    {
      "cell_type": "code",
      "execution_count": 2,
      "metadata": {
        "colab": {
          "base_uri": "https://localhost:8080/"
        },
        "id": "KPCCa0sFZuGm",
        "outputId": "efd66295-1ae3-452b-fb8e-bfc73c95932b"
      },
      "outputs": [
        {
          "output_type": "stream",
          "name": "stdout",
          "text": [
            " The Oracle JDK License has changed for releases starting April 16, 2019.\n",
            "\n",
            "The new Oracle Technology Network License Agreement for Oracle Java SE is substantially different from prior Oracle JDK licenses. The new license permits certain uses, such as personal use and development use, at no cost -- but other uses authorized under prior Oracle JDK licenses may no longer be available. Please review the terms carefully before downloading and using this product. An FAQ is available here: https://www.oracle.com/technetwork/java/javase/overview/oracle-jdk-faqs.html\n",
            "\n",
            "Oracle Java downloads now require logging in to an Oracle account to download Java updates, like the latest Oracle Java 8u211 / Java SE 8u212. Because of this I cannot update the PPA with the latest Java (and the old links were broken by Oracle).\n",
            "\n",
            "For this reason, THIS PPA IS DISCONTINUED.\n",
            "\n",
            "UPDATE:\n",
            "\n",
            "For Oracle Java 17, see a different PPA -> https://www.linuxuprising.com/2021/09/how-to-install-oracle-java-17-lts-on.html\n",
            "\n",
            "Old description:\n",
            "\n",
            "Oracle Java (JDK) Installer (automatically downloads and installs Oracle JDK8). There are no actual Java files in this PPA.\n",
            "\n",
            "Important -> Why Oracle Java 7 And 6 Installers No Longer Work: http://www.webupd8.org/2017/06/why-oracle-java-7-and-6-installers-no.html\n",
            "\n",
            "Update: Oracle Java 9 has reached end of life: http://www.oracle.com/technetwork/java/javase/downloads/jdk9-downloads-3848520.html\n",
            "\n",
            "The PPA supports Ubuntu 18.10, 18.04, 16.04, 14.04 and 12.04.\n",
            "\n",
            "More info (and Ubuntu installation instructions):\n",
            "- http://www.webupd8.org/2012/09/install-oracle-java-8-in-ubuntu-via-ppa.html\n",
            "\n",
            "Debian installation instructions:\n",
            "- Oracle Java 8: http://www.webupd8.org/2014/03/how-to-install-oracle-java-8-in-debian.html\n",
            " More info: https://launchpad.net/~webupd8team/+archive/ubuntu/java\n",
            "Press [ENTER] to continue or Ctrl-c to cancel adding it.\n",
            "\n",
            "\n",
            "Get:1 https://cloud.r-project.org/bin/linux/ubuntu bionic-cran40/ InRelease [3,626 B]\n",
            "Get:2 http://security.ubuntu.com/ubuntu bionic-security InRelease [88.7 kB]\n",
            "Ign:3 https://developer.download.nvidia.com/compute/machine-learning/repos/ubuntu1804/x86_64  InRelease\n",
            "Get:4 https://developer.download.nvidia.com/compute/cuda/repos/ubuntu1804/x86_64  InRelease [1,581 B]\n",
            "Hit:5 https://developer.download.nvidia.com/compute/machine-learning/repos/ubuntu1804/x86_64  Release\n",
            "Get:6 https://developer.download.nvidia.com/compute/cuda/repos/ubuntu1804/x86_64  Packages [950 kB]\n",
            "Hit:8 http://archive.ubuntu.com/ubuntu bionic InRelease\n",
            "Hit:9 http://ppa.launchpad.net/c2d4u.team/c2d4u4.0+/ubuntu bionic InRelease\n",
            "Get:10 http://archive.ubuntu.com/ubuntu bionic-updates InRelease [88.7 kB]\n",
            "Hit:11 http://ppa.launchpad.net/cran/libgit2/ubuntu bionic InRelease\n",
            "Get:12 http://security.ubuntu.com/ubuntu bionic-security/main amd64 Packages [2,992 kB]\n",
            "Hit:13 http://ppa.launchpad.net/deadsnakes/ppa/ubuntu bionic InRelease\n",
            "Get:14 http://archive.ubuntu.com/ubuntu bionic-backports InRelease [83.3 kB]\n",
            "Hit:15 http://ppa.launchpad.net/graphics-drivers/ppa/ubuntu bionic InRelease\n",
            "Get:16 http://archive.ubuntu.com/ubuntu bionic-updates/universe amd64 Packages [2,324 kB]\n",
            "Get:17 http://security.ubuntu.com/ubuntu bionic-security/universe amd64 Packages [1,546 kB]\n",
            "Get:18 http://ppa.launchpad.net/webupd8team/java/ubuntu bionic InRelease [15.4 kB]\n",
            "Get:19 http://archive.ubuntu.com/ubuntu bionic-updates/main amd64 Packages [3,425 kB]\n",
            "Fetched 11.5 MB in 4s (3,059 kB/s)\n",
            "Reading package lists... Done\n",
            "Hit:1 https://cloud.r-project.org/bin/linux/ubuntu bionic-cran40/ InRelease\n",
            "Ign:2 https://developer.download.nvidia.com/compute/machine-learning/repos/ubuntu1804/x86_64  InRelease\n",
            "Hit:3 http://ppa.launchpad.net/c2d4u.team/c2d4u4.0+/ubuntu bionic InRelease\n",
            "Hit:4 http://archive.ubuntu.com/ubuntu bionic InRelease\n",
            "Hit:5 https://developer.download.nvidia.com/compute/cuda/repos/ubuntu1804/x86_64  InRelease\n",
            "Hit:6 https://developer.download.nvidia.com/compute/machine-learning/repos/ubuntu1804/x86_64  Release\n",
            "Hit:7 http://archive.ubuntu.com/ubuntu bionic-updates InRelease\n",
            "Hit:8 http://security.ubuntu.com/ubuntu bionic-security InRelease\n",
            "Hit:10 http://ppa.launchpad.net/cran/libgit2/ubuntu bionic InRelease\n",
            "Hit:11 http://archive.ubuntu.com/ubuntu bionic-backports InRelease\n",
            "Hit:12 http://ppa.launchpad.net/deadsnakes/ppa/ubuntu bionic InRelease\n",
            "Hit:13 http://ppa.launchpad.net/graphics-drivers/ppa/ubuntu bionic InRelease\n",
            "Hit:14 http://ppa.launchpad.net/webupd8team/java/ubuntu bionic InRelease\n",
            "Reading package lists... Done\n",
            "Reading package lists... Done\n",
            "Building dependency tree       \n",
            "Reading state information... Done\n",
            "Package oracle-java8-installer is not available, but is referred to by another package.\n",
            "This may mean that the package is missing, has been obsoleted, or\n",
            "is only available from another source\n",
            "\n",
            "E: Package 'oracle-java8-installer' has no installation candidate\n",
            "Reading package lists... Done\n",
            "Building dependency tree       \n",
            "Reading state information... Done\n",
            "The following package was automatically installed and is no longer required:\n",
            "  libnvidia-common-460\n",
            "Use 'sudo apt autoremove' to remove it.\n",
            "The following additional packages will be installed:\n",
            "  fonts-dejavu-core fonts-dejavu-extra libatk-wrapper-java\n",
            "  libatk-wrapper-java-jni libgail-common libgail18 libgtk2.0-0 libgtk2.0-bin\n",
            "  libgtk2.0-common libxxf86dga1 openjdk-8-jre x11-utils\n",
            "Suggested packages:\n",
            "  gvfs openjdk-8-demo openjdk-8-source visualvm mesa-utils\n",
            "The following NEW packages will be installed:\n",
            "  fonts-dejavu-core fonts-dejavu-extra libatk-wrapper-java\n",
            "  libatk-wrapper-java-jni libgail-common libgail18 libgtk2.0-0 libgtk2.0-bin\n",
            "  libgtk2.0-common libxxf86dga1 openjdk-8-jdk openjdk-8-jre x11-utils\n",
            "0 upgraded, 13 newly installed, 0 to remove and 12 not upgraded.\n",
            "Need to get 9,395 kB of archives.\n",
            "After this operation, 22.6 MB of additional disk space will be used.\n",
            "Get:1 http://archive.ubuntu.com/ubuntu bionic/main amd64 libxxf86dga1 amd64 2:1.1.4-1 [13.7 kB]\n",
            "Get:2 http://archive.ubuntu.com/ubuntu bionic/main amd64 fonts-dejavu-core all 2.37-1 [1,041 kB]\n",
            "Get:3 http://archive.ubuntu.com/ubuntu bionic/main amd64 fonts-dejavu-extra all 2.37-1 [1,953 kB]\n",
            "Get:4 http://archive.ubuntu.com/ubuntu bionic/main amd64 x11-utils amd64 7.7+3build1 [196 kB]\n",
            "Get:5 http://archive.ubuntu.com/ubuntu bionic/main amd64 libatk-wrapper-java all 0.33.3-20ubuntu0.1 [34.7 kB]\n",
            "Get:6 http://archive.ubuntu.com/ubuntu bionic/main amd64 libatk-wrapper-java-jni amd64 0.33.3-20ubuntu0.1 [28.3 kB]\n",
            "Get:7 http://archive.ubuntu.com/ubuntu bionic/main amd64 libgtk2.0-common all 2.24.32-1ubuntu1 [125 kB]\n",
            "Get:8 http://archive.ubuntu.com/ubuntu bionic/main amd64 libgtk2.0-0 amd64 2.24.32-1ubuntu1 [1,769 kB]\n",
            "Get:9 http://archive.ubuntu.com/ubuntu bionic/main amd64 libgail18 amd64 2.24.32-1ubuntu1 [14.2 kB]\n",
            "Get:10 http://archive.ubuntu.com/ubuntu bionic/main amd64 libgail-common amd64 2.24.32-1ubuntu1 [112 kB]\n",
            "Get:11 http://archive.ubuntu.com/ubuntu bionic/main amd64 libgtk2.0-bin amd64 2.24.32-1ubuntu1 [7,536 B]\n",
            "Get:12 http://archive.ubuntu.com/ubuntu bionic-updates/universe amd64 openjdk-8-jre amd64 8u342-b07-0ubuntu1~18.04 [69.6 kB]\n",
            "Get:13 http://archive.ubuntu.com/ubuntu bionic-updates/universe amd64 openjdk-8-jdk amd64 8u342-b07-0ubuntu1~18.04 [4,032 kB]\n",
            "Fetched 9,395 kB in 3s (3,363 kB/s)\n",
            "debconf: unable to initialize frontend: Dialog\n",
            "debconf: (No usable dialog-like program is installed, so the dialog based frontend cannot be used. at /usr/share/perl5/Debconf/FrontEnd/Dialog.pm line 76, <> line 13.)\n",
            "debconf: falling back to frontend: Readline\n",
            "debconf: unable to initialize frontend: Readline\n",
            "debconf: (This frontend requires a controlling tty.)\n",
            "debconf: falling back to frontend: Teletype\n",
            "dpkg-preconfigure: unable to re-open stdin: \n",
            "Selecting previously unselected package libxxf86dga1:amd64.\n",
            "(Reading database ... 124279 files and directories currently installed.)\n",
            "Preparing to unpack .../00-libxxf86dga1_2%3a1.1.4-1_amd64.deb ...\n",
            "Unpacking libxxf86dga1:amd64 (2:1.1.4-1) ...\n",
            "Selecting previously unselected package fonts-dejavu-core.\n",
            "Preparing to unpack .../01-fonts-dejavu-core_2.37-1_all.deb ...\n",
            "Unpacking fonts-dejavu-core (2.37-1) ...\n",
            "Selecting previously unselected package fonts-dejavu-extra.\n",
            "Preparing to unpack .../02-fonts-dejavu-extra_2.37-1_all.deb ...\n",
            "Unpacking fonts-dejavu-extra (2.37-1) ...\n",
            "Selecting previously unselected package x11-utils.\n",
            "Preparing to unpack .../03-x11-utils_7.7+3build1_amd64.deb ...\n",
            "Unpacking x11-utils (7.7+3build1) ...\n",
            "Selecting previously unselected package libatk-wrapper-java.\n",
            "Preparing to unpack .../04-libatk-wrapper-java_0.33.3-20ubuntu0.1_all.deb ...\n",
            "Unpacking libatk-wrapper-java (0.33.3-20ubuntu0.1) ...\n",
            "Selecting previously unselected package libatk-wrapper-java-jni:amd64.\n",
            "Preparing to unpack .../05-libatk-wrapper-java-jni_0.33.3-20ubuntu0.1_amd64.deb ...\n",
            "Unpacking libatk-wrapper-java-jni:amd64 (0.33.3-20ubuntu0.1) ...\n",
            "Selecting previously unselected package libgtk2.0-common.\n",
            "Preparing to unpack .../06-libgtk2.0-common_2.24.32-1ubuntu1_all.deb ...\n",
            "Unpacking libgtk2.0-common (2.24.32-1ubuntu1) ...\n",
            "Selecting previously unselected package libgtk2.0-0:amd64.\n",
            "Preparing to unpack .../07-libgtk2.0-0_2.24.32-1ubuntu1_amd64.deb ...\n",
            "Unpacking libgtk2.0-0:amd64 (2.24.32-1ubuntu1) ...\n",
            "Selecting previously unselected package libgail18:amd64.\n",
            "Preparing to unpack .../08-libgail18_2.24.32-1ubuntu1_amd64.deb ...\n",
            "Unpacking libgail18:amd64 (2.24.32-1ubuntu1) ...\n",
            "Selecting previously unselected package libgail-common:amd64.\n",
            "Preparing to unpack .../09-libgail-common_2.24.32-1ubuntu1_amd64.deb ...\n",
            "Unpacking libgail-common:amd64 (2.24.32-1ubuntu1) ...\n",
            "Selecting previously unselected package libgtk2.0-bin.\n",
            "Preparing to unpack .../10-libgtk2.0-bin_2.24.32-1ubuntu1_amd64.deb ...\n",
            "Unpacking libgtk2.0-bin (2.24.32-1ubuntu1) ...\n",
            "Selecting previously unselected package openjdk-8-jre:amd64.\n",
            "Preparing to unpack .../11-openjdk-8-jre_8u342-b07-0ubuntu1~18.04_amd64.deb ...\n",
            "Unpacking openjdk-8-jre:amd64 (8u342-b07-0ubuntu1~18.04) ...\n",
            "Selecting previously unselected package openjdk-8-jdk:amd64.\n",
            "Preparing to unpack .../12-openjdk-8-jdk_8u342-b07-0ubuntu1~18.04_amd64.deb ...\n",
            "Unpacking openjdk-8-jdk:amd64 (8u342-b07-0ubuntu1~18.04) ...\n",
            "Setting up libgtk2.0-common (2.24.32-1ubuntu1) ...\n",
            "Setting up fonts-dejavu-core (2.37-1) ...\n",
            "Setting up libxxf86dga1:amd64 (2:1.1.4-1) ...\n",
            "Setting up fonts-dejavu-extra (2.37-1) ...\n",
            "Setting up libgtk2.0-0:amd64 (2.24.32-1ubuntu1) ...\n",
            "Setting up libgail18:amd64 (2.24.32-1ubuntu1) ...\n",
            "Setting up x11-utils (7.7+3build1) ...\n",
            "Setting up libgail-common:amd64 (2.24.32-1ubuntu1) ...\n",
            "Setting up libatk-wrapper-java (0.33.3-20ubuntu0.1) ...\n",
            "Setting up libgtk2.0-bin (2.24.32-1ubuntu1) ...\n",
            "Setting up libatk-wrapper-java-jni:amd64 (0.33.3-20ubuntu0.1) ...\n",
            "Setting up openjdk-8-jre:amd64 (8u342-b07-0ubuntu1~18.04) ...\n",
            "update-alternatives: using /usr/lib/jvm/java-8-openjdk-amd64/jre/bin/policytool to provide /usr/bin/policytool (policytool) in auto mode\n",
            "Setting up openjdk-8-jdk:amd64 (8u342-b07-0ubuntu1~18.04) ...\n",
            "update-alternatives: using /usr/lib/jvm/java-8-openjdk-amd64/bin/appletviewer to provide /usr/bin/appletviewer (appletviewer) in auto mode\n",
            "update-alternatives: using /usr/lib/jvm/java-8-openjdk-amd64/bin/jconsole to provide /usr/bin/jconsole (jconsole) in auto mode\n",
            "Processing triggers for man-db (2.8.3-2ubuntu0.1) ...\n",
            "Processing triggers for hicolor-icon-theme (0.17-2) ...\n",
            "Processing triggers for fontconfig (2.12.6-0ubuntu2) ...\n",
            "Processing triggers for mime-support (3.60ubuntu1) ...\n",
            "Processing triggers for libc-bin (2.27-3ubuntu1.6) ...\n"
          ]
        }
      ],
      "source": [
        "!sudo apt-get install openjdk-8-jdk-headless -qq > /dev/null\n",
        "!sudo add-apt-repository ppa:webupd8team/java\n",
        "!sudo apt-get update\n",
        "!sudo apt-get install oracle-java8-installer\n",
        "!export PYSPARK_SUBMIT_ARGS=\"--master local[3] pyspark-shell\"\n",
        "!sudo apt-get install openjdk-8-jdk"
      ]
    },
    {
      "cell_type": "code",
      "execution_count": 3,
      "metadata": {
        "id": "UdEl57p-Q8zU",
        "colab": {
          "base_uri": "https://localhost:8080/"
        },
        "outputId": "d4ec48d3-b339-4e66-932b-3933fa3938d6"
      },
      "outputs": [
        {
          "output_type": "stream",
          "name": "stdout",
          "text": [
            "\u001b[K     |████████████████████████████████| 281.3 MB 26 kB/s \n",
            "\u001b[K     |████████████████████████████████| 199 kB 38.6 MB/s \n",
            "\u001b[?25h  Building wheel for pyspark (setup.py) ... \u001b[?25l\u001b[?25hdone\n",
            "Looking in indexes: https://pypi.org/simple, https://us-python.pkg.dev/colab-wheels/public/simple/\n",
            "Requirement already satisfied: beautifulsoup4 in /usr/local/lib/python3.7/dist-packages (4.6.3)\n"
          ]
        }
      ],
      "source": [
        "# configurar as variáveis de ambiente\n",
        "import os\n",
        "os.environ[\"JAVA_HOME\"] = \"/usr/lib/jvm/java-8-openjdk-amd64\"\n",
        "os.environ[\"SPARK_HOME\"] = \"/content/spark-2.4.4-bin-hadoop2.7\"\n",
        "\n",
        "!pip install -q pyspark\n",
        "!pip install beautifulsoup4\n",
        "# tornar o pyspark \"importável\"\n",
        "import findspark\n",
        "findspark.init('spark-2.4.4-bin-hadoop2.7')"
      ]
    },
    {
      "cell_type": "code",
      "execution_count": 4,
      "metadata": {
        "id": "IXpgGQ9HWwrP"
      },
      "outputs": [],
      "source": [
        "from pyspark.sql import SparkSession"
      ]
    },
    {
      "cell_type": "code",
      "execution_count": 21,
      "metadata": {
        "id": "VB12MMkXSWAF"
      },
      "outputs": [],
      "source": [
        "from pyspark.sql.functions import max, count, col, desc, asc, lit, sum as sumerize, length\n",
        "import pyspark.sql.functions as F\n",
        "from pyspark import sql"
      ]
    },
    {
      "cell_type": "code",
      "execution_count": 6,
      "metadata": {
        "id": "xDwYf-BkdWYu"
      },
      "outputs": [],
      "source": [
        "from pyspark.sql import DataFrame"
      ]
    },
    {
      "cell_type": "code",
      "execution_count": 7,
      "metadata": {
        "id": "dF9WDEx6gmG7"
      },
      "outputs": [],
      "source": [
        "from pyspark.sql.functions import when, expr"
      ]
    },
    {
      "cell_type": "code",
      "source": [
        "\n",
        "import pandas as pd\n",
        "import requests as res\n",
        "from bs4 import BeautifulSoup as bs\n",
        "from io import StringIO\n",
        "\n",
        "url = \"https://github.com/MarquesThiago/linear_regresion/blob/master/Housing/USA_Housing.csv\"\n",
        "get = res.get(url=url)\n",
        "soup = bs(get.content, \"html.parser\")\n",
        "table = soup.select(\"table[data-tagsearch-path]\")\n",
        "list_texts = table[0].select(\".blob-code\")\n",
        "texts = [text.get_text() for text in list_texts]\n",
        "file_csv = \"\\n\".join(texts) \n",
        "csv = StringIO(file_csv)\n",
        "\n",
        "test = pd.read_csv(csv, error_bad_lines=False, sep = \",\")\n",
        "test.head()\n"
      ],
      "metadata": {
        "colab": {
          "base_uri": "https://localhost:8080/",
          "height": 276
        },
        "id": "9nGJ_sioxSJa",
        "outputId": "da414dd8-fccb-416d-b6b6-e489f821f951"
      },
      "execution_count": 8,
      "outputs": [
        {
          "output_type": "stream",
          "name": "stderr",
          "text": [
            "/usr/local/lib/python3.7/dist-packages/IPython/core/interactiveshell.py:3326: FutureWarning: The error_bad_lines argument has been deprecated and will be removed in a future version.\n",
            "\n",
            "\n",
            "  exec(code_obj, self.user_global_ns, self.user_ns)\n"
          ]
        },
        {
          "output_type": "execute_result",
          "data": {
            "text/plain": [
              "   Avg. Area Income  Avg. Area House Age  Avg. Area Number of Rooms  \\\n",
              "0      79545.458574             5.682861                   7.009188   \n",
              "1      79248.642455             6.002900                   6.730821   \n",
              "2      61287.067179             5.865890                   8.512727   \n",
              "3      63345.240046             7.188236                   5.586729   \n",
              "4      59982.197226             5.040555                   7.839388   \n",
              "\n",
              "   Avg. Area Number of Bedrooms  Area Population         Price  \\\n",
              "0                          4.09     23086.800503  1.059034e+06   \n",
              "1                          3.09     40173.072174  1.505891e+06   \n",
              "2                          5.13     36882.159400  1.058988e+06   \n",
              "3                          3.26     34310.242831  1.260617e+06   \n",
              "4                          4.23     26354.109472  6.309435e+05   \n",
              "\n",
              "                                             Address  \n",
              "0  208 Michael Ferry Apt. 674\\nLaurabury, NE 3701...  \n",
              "1  188 Johnson Views Suite 079\\nLake Kathleen, CA...  \n",
              "2  9127 Elizabeth Stravenue\\nDanieltown, WI 06482...  \n",
              "3                          USS Barnett\\nFPO AP 44820  \n",
              "4                         USNS Raymond\\nFPO AE 09386  "
            ],
            "text/html": [
              "\n",
              "  <div id=\"df-e272dddc-4dd3-455e-8a1e-138b55107ca6\">\n",
              "    <div class=\"colab-df-container\">\n",
              "      <div>\n",
              "<style scoped>\n",
              "    .dataframe tbody tr th:only-of-type {\n",
              "        vertical-align: middle;\n",
              "    }\n",
              "\n",
              "    .dataframe tbody tr th {\n",
              "        vertical-align: top;\n",
              "    }\n",
              "\n",
              "    .dataframe thead th {\n",
              "        text-align: right;\n",
              "    }\n",
              "</style>\n",
              "<table border=\"1\" class=\"dataframe\">\n",
              "  <thead>\n",
              "    <tr style=\"text-align: right;\">\n",
              "      <th></th>\n",
              "      <th>Avg. Area Income</th>\n",
              "      <th>Avg. Area House Age</th>\n",
              "      <th>Avg. Area Number of Rooms</th>\n",
              "      <th>Avg. Area Number of Bedrooms</th>\n",
              "      <th>Area Population</th>\n",
              "      <th>Price</th>\n",
              "      <th>Address</th>\n",
              "    </tr>\n",
              "  </thead>\n",
              "  <tbody>\n",
              "    <tr>\n",
              "      <th>0</th>\n",
              "      <td>79545.458574</td>\n",
              "      <td>5.682861</td>\n",
              "      <td>7.009188</td>\n",
              "      <td>4.09</td>\n",
              "      <td>23086.800503</td>\n",
              "      <td>1.059034e+06</td>\n",
              "      <td>208 Michael Ferry Apt. 674\\nLaurabury, NE 3701...</td>\n",
              "    </tr>\n",
              "    <tr>\n",
              "      <th>1</th>\n",
              "      <td>79248.642455</td>\n",
              "      <td>6.002900</td>\n",
              "      <td>6.730821</td>\n",
              "      <td>3.09</td>\n",
              "      <td>40173.072174</td>\n",
              "      <td>1.505891e+06</td>\n",
              "      <td>188 Johnson Views Suite 079\\nLake Kathleen, CA...</td>\n",
              "    </tr>\n",
              "    <tr>\n",
              "      <th>2</th>\n",
              "      <td>61287.067179</td>\n",
              "      <td>5.865890</td>\n",
              "      <td>8.512727</td>\n",
              "      <td>5.13</td>\n",
              "      <td>36882.159400</td>\n",
              "      <td>1.058988e+06</td>\n",
              "      <td>9127 Elizabeth Stravenue\\nDanieltown, WI 06482...</td>\n",
              "    </tr>\n",
              "    <tr>\n",
              "      <th>3</th>\n",
              "      <td>63345.240046</td>\n",
              "      <td>7.188236</td>\n",
              "      <td>5.586729</td>\n",
              "      <td>3.26</td>\n",
              "      <td>34310.242831</td>\n",
              "      <td>1.260617e+06</td>\n",
              "      <td>USS Barnett\\nFPO AP 44820</td>\n",
              "    </tr>\n",
              "    <tr>\n",
              "      <th>4</th>\n",
              "      <td>59982.197226</td>\n",
              "      <td>5.040555</td>\n",
              "      <td>7.839388</td>\n",
              "      <td>4.23</td>\n",
              "      <td>26354.109472</td>\n",
              "      <td>6.309435e+05</td>\n",
              "      <td>USNS Raymond\\nFPO AE 09386</td>\n",
              "    </tr>\n",
              "  </tbody>\n",
              "</table>\n",
              "</div>\n",
              "      <button class=\"colab-df-convert\" onclick=\"convertToInteractive('df-e272dddc-4dd3-455e-8a1e-138b55107ca6')\"\n",
              "              title=\"Convert this dataframe to an interactive table.\"\n",
              "              style=\"display:none;\">\n",
              "        \n",
              "  <svg xmlns=\"http://www.w3.org/2000/svg\" height=\"24px\"viewBox=\"0 0 24 24\"\n",
              "       width=\"24px\">\n",
              "    <path d=\"M0 0h24v24H0V0z\" fill=\"none\"/>\n",
              "    <path d=\"M18.56 5.44l.94 2.06.94-2.06 2.06-.94-2.06-.94-.94-2.06-.94 2.06-2.06.94zm-11 1L8.5 8.5l.94-2.06 2.06-.94-2.06-.94L8.5 2.5l-.94 2.06-2.06.94zm10 10l.94 2.06.94-2.06 2.06-.94-2.06-.94-.94-2.06-.94 2.06-2.06.94z\"/><path d=\"M17.41 7.96l-1.37-1.37c-.4-.4-.92-.59-1.43-.59-.52 0-1.04.2-1.43.59L10.3 9.45l-7.72 7.72c-.78.78-.78 2.05 0 2.83L4 21.41c.39.39.9.59 1.41.59.51 0 1.02-.2 1.41-.59l7.78-7.78 2.81-2.81c.8-.78.8-2.07 0-2.86zM5.41 20L4 18.59l7.72-7.72 1.47 1.35L5.41 20z\"/>\n",
              "  </svg>\n",
              "      </button>\n",
              "      \n",
              "  <style>\n",
              "    .colab-df-container {\n",
              "      display:flex;\n",
              "      flex-wrap:wrap;\n",
              "      gap: 12px;\n",
              "    }\n",
              "\n",
              "    .colab-df-convert {\n",
              "      background-color: #E8F0FE;\n",
              "      border: none;\n",
              "      border-radius: 50%;\n",
              "      cursor: pointer;\n",
              "      display: none;\n",
              "      fill: #1967D2;\n",
              "      height: 32px;\n",
              "      padding: 0 0 0 0;\n",
              "      width: 32px;\n",
              "    }\n",
              "\n",
              "    .colab-df-convert:hover {\n",
              "      background-color: #E2EBFA;\n",
              "      box-shadow: 0px 1px 2px rgba(60, 64, 67, 0.3), 0px 1px 3px 1px rgba(60, 64, 67, 0.15);\n",
              "      fill: #174EA6;\n",
              "    }\n",
              "\n",
              "    [theme=dark] .colab-df-convert {\n",
              "      background-color: #3B4455;\n",
              "      fill: #D2E3FC;\n",
              "    }\n",
              "\n",
              "    [theme=dark] .colab-df-convert:hover {\n",
              "      background-color: #434B5C;\n",
              "      box-shadow: 0px 1px 3px 1px rgba(0, 0, 0, 0.15);\n",
              "      filter: drop-shadow(0px 1px 2px rgba(0, 0, 0, 0.3));\n",
              "      fill: #FFFFFF;\n",
              "    }\n",
              "  </style>\n",
              "\n",
              "      <script>\n",
              "        const buttonEl =\n",
              "          document.querySelector('#df-e272dddc-4dd3-455e-8a1e-138b55107ca6 button.colab-df-convert');\n",
              "        buttonEl.style.display =\n",
              "          google.colab.kernel.accessAllowed ? 'block' : 'none';\n",
              "\n",
              "        async function convertToInteractive(key) {\n",
              "          const element = document.querySelector('#df-e272dddc-4dd3-455e-8a1e-138b55107ca6');\n",
              "          const dataTable =\n",
              "            await google.colab.kernel.invokeFunction('convertToInteractive',\n",
              "                                                     [key], {});\n",
              "          if (!dataTable) return;\n",
              "\n",
              "          const docLinkHtml = 'Like what you see? Visit the ' +\n",
              "            '<a target=\"_blank\" href=https://colab.research.google.com/notebooks/data_table.ipynb>data table notebook</a>'\n",
              "            + ' to learn more about interactive tables.';\n",
              "          element.innerHTML = '';\n",
              "          dataTable['output_type'] = 'display_data';\n",
              "          await google.colab.output.renderOutput(dataTable, element);\n",
              "          const docLink = document.createElement('div');\n",
              "          docLink.innerHTML = docLinkHtml;\n",
              "          element.appendChild(docLink);\n",
              "        }\n",
              "      </script>\n",
              "    </div>\n",
              "  </div>\n",
              "  "
            ]
          },
          "metadata": {},
          "execution_count": 8
        }
      ]
    },
    {
      "cell_type": "code",
      "execution_count": 9,
      "metadata": {
        "id": "jzF27FWUWVks"
      },
      "outputs": [],
      "source": [
        "sc = SparkSession.builder.master(\"local[*]\").getOrCreate()\n"
      ]
    },
    {
      "cell_type": "code",
      "execution_count": 10,
      "metadata": {
        "colab": {
          "base_uri": "https://localhost:8080/"
        },
        "id": "AzHzg--zRBjC",
        "outputId": "7025000a-df99-47a5-9072-235173d46ed4"
      },
      "outputs": [
        {
          "output_type": "stream",
          "name": "stdout",
          "text": [
            "primeiro dataframe\n",
            "root\n",
            " |-- longitude: double (nullable = true)\n",
            " |-- latitude: double (nullable = true)\n",
            " |-- housing_median_age: double (nullable = true)\n",
            " |-- total_rooms: double (nullable = true)\n",
            " |-- total_bedrooms: double (nullable = true)\n",
            " |-- population: double (nullable = true)\n",
            " |-- households: double (nullable = true)\n",
            " |-- median_income: double (nullable = true)\n",
            " |-- median_house_value: double (nullable = true)\n",
            "\n",
            "segundo dataframe\n",
            "root\n",
            " |-- Avg. Area Income: double (nullable = true)\n",
            " |-- Avg. Area House Age: double (nullable = true)\n",
            " |-- Avg. Area Number of Rooms: double (nullable = true)\n",
            " |-- Avg. Area Number of Bedrooms: double (nullable = true)\n",
            " |-- Area Population: double (nullable = true)\n",
            " |-- Price: double (nullable = true)\n",
            " |-- Address: string (nullable = true)\n",
            "\n"
          ]
        }
      ],
      "source": [
        "\n",
        "# carregar dados do Airbnb\n",
        "df_spark = sc.read.csv(\"/content/sample_data/california_housing_train.csv\", inferSchema=True, header=True)\n",
        "sparkDF=sc.createDataFrame(test) \n",
        "\n",
        "# ver algumas informações sobre os tipos de dados de cada coluna\n",
        "print(\"primeiro dataframe\")\n",
        "df_spark.printSchema()\n",
        "print(\"segundo dataframe\")\n",
        "sparkDF.printSchema()\n",
        "\n"
      ]
    },
    {
      "cell_type": "code",
      "execution_count": 11,
      "metadata": {
        "id": "YEQ5-2HhTEoO",
        "colab": {
          "base_uri": "https://localhost:8080/"
        },
        "outputId": "6e324177-e580-499c-828f-870ac624ea8b"
      },
      "outputs": [
        {
          "output_type": "stream",
          "name": "stdout",
          "text": [
            "+---------+--------+-----------+--------------+----------+----------+-------------+------------------+---------+\n",
            "|longitude|latitude|total_rooms|total_bedrooms|population|households|median_income|median_house_value|house_age|\n",
            "+---------+--------+-----------+--------------+----------+----------+-------------+------------------+---------+\n",
            "|  -114.31|   34.19|     5612.0|        1283.0|    1015.0|     472.0|       1.4936|           66900.0|       15|\n",
            "|  -114.47|    34.4|     7650.0|        1901.0|    1129.0|     463.0|         1.82|           80100.0|       19|\n",
            "|  -114.56|   33.69|      720.0|         174.0|     333.0|     117.0|       1.6509|           85700.0|       17|\n",
            "|  -114.57|   33.64|     1501.0|         337.0|     515.0|     226.0|       3.1917|           73400.0|       14|\n",
            "|  -114.57|   33.57|     1454.0|         326.0|     624.0|     262.0|        1.925|           65500.0|       20|\n",
            "|  -114.58|   33.63|     1387.0|         236.0|     671.0|     239.0|       3.3438|           74000.0|       29|\n",
            "|  -114.58|   33.61|     2907.0|         680.0|    1841.0|     633.0|       2.6768|           82400.0|       25|\n",
            "|  -114.59|   34.83|      812.0|         168.0|     375.0|     158.0|       1.7083|           48500.0|       41|\n",
            "|  -114.59|   33.61|     4789.0|        1175.0|    3134.0|    1056.0|       2.1782|           58400.0|       34|\n",
            "|   -114.6|   34.83|     1497.0|         309.0|     787.0|     271.0|       2.1908|           48100.0|       46|\n",
            "|   -114.6|   33.62|     3741.0|         801.0|    2434.0|     824.0|       2.6797|           86500.0|       16|\n",
            "|   -114.6|    33.6|     1988.0|         483.0|    1182.0|     437.0|        1.625|           62000.0|       21|\n",
            "|  -114.61|   34.84|     1291.0|         248.0|     580.0|     211.0|       2.1571|           48600.0|       48|\n",
            "|  -114.61|   34.83|     2478.0|         464.0|    1346.0|     479.0|        3.212|           70400.0|       31|\n",
            "|  -114.63|   32.76|     1448.0|         378.0|     949.0|     300.0|       0.8585|           45000.0|       15|\n",
            "|  -114.65|   34.89|     2556.0|         587.0|    1005.0|     401.0|       1.6991|           69100.0|       17|\n",
            "|  -114.65|    33.6|     1678.0|         322.0|     666.0|     256.0|       2.9653|           94900.0|       28|\n",
            "|  -114.65|   32.79|       44.0|          33.0|      64.0|      27.0|       0.8571|           25000.0|       21|\n",
            "|  -114.66|   32.74|     1388.0|         386.0|     775.0|     320.0|       1.2049|           44000.0|       17|\n",
            "|  -114.67|   33.92|       97.0|          24.0|      29.0|      15.0|       1.2656|           27500.0|       17|\n",
            "+---------+--------+-----------+--------------+----------+----------+-------------+------------------+---------+\n",
            "only showing top 20 rows\n",
            "\n"
          ]
        }
      ],
      "source": [
        "# realizando casting da idede media da casa de ponto flutauante para inteiro\n",
        "treat_df = df_spark.withColumn('house_age', df_spark.housing_median_age.cast('int')).drop('housing_median_age')\n",
        "treat_df.show()"
      ]
    },
    {
      "cell_type": "code",
      "execution_count": 12,
      "metadata": {
        "id": "zNXTGEVvUt96",
        "colab": {
          "base_uri": "https://localhost:8080/"
        },
        "outputId": "c2273c06-e4f1-4438-ad4f-1139770d6c8f"
      },
      "outputs": [
        {
          "output_type": "stream",
          "name": "stdout",
          "text": [
            "+---------+--------+-----------+--------------+----------+----------+-------------+------------------+---------+\n",
            "|longitude|latitude|total_rooms|total_bedrooms|population|households|median_income|median_house_value|house_age|\n",
            "+---------+--------+-----------+--------------+----------+----------+-------------+------------------+---------+\n",
            "|  -117.23|   32.99|     2718.0|         326.0|    1011.0|     319.0|      15.0001|          500001.0|       17|\n",
            "|  -117.23|   33.01|     3961.0|         511.0|    1541.0|     470.0|      11.1118|          500001.0|       18|\n",
            "|  -117.19|   32.76|     1294.0|         175.0|     434.0|     180.0|       5.7914|          500001.0|       52|\n",
            "|  -116.43|   33.75|     2596.0|         438.0|     473.0|     237.0|       3.7727|          500001.0|       24|\n",
            "|  -117.19|   32.75|     1495.0|         230.0|     459.0|     190.0|       8.1548|          500001.0|       52|\n",
            "|  -117.08|   34.08|       45.0|          11.0|      39.0|      14.0|       3.0625|          500001.0|       34|\n",
            "|  -117.18|   33.51|      270.0|          42.0|     120.0|      42.0|        6.993|          500001.0|       13|\n",
            "|  -117.22|   33.87|       56.0|           7.0|      39.0|      14.0|        2.625|          500001.0|       16|\n",
            "|  -117.21|   33.03|     3370.0|         433.0|    1020.0|     408.0|      11.0911|          500001.0|       20|\n",
            "|  -117.17|   32.69|     2236.0|         331.0|     767.0|     316.0|       5.3177|          500001.0|       40|\n",
            "+---------+--------+-----------+--------------+----------+----------+-------------+------------------+---------+\n",
            "only showing top 10 rows\n",
            "\n"
          ]
        }
      ],
      "source": [
        "# retornado os 10 maiores valores de case \n",
        "treat_df.sort(col('median_house_value').desc()).show(10)"
      ]
    },
    {
      "cell_type": "code",
      "execution_count": 13,
      "metadata": {
        "colab": {
          "base_uri": "https://localhost:8080/"
        },
        "id": "ESFlCoMHWEdr",
        "outputId": "6bf1fd77-a987-4d1f-95df-f912108b20ad"
      },
      "outputs": [
        {
          "output_type": "stream",
          "name": "stdout",
          "text": [
            "+---------+--------+-----------+--------------+----------+----------+-------------+------------------+---------+\n",
            "|longitude|latitude|total_rooms|total_bedrooms|population|households|median_income|median_house_value|house_age|\n",
            "+---------+--------+-----------+--------------+----------+----------+-------------+------------------+---------+\n",
            "|  -118.04|   34.13|      249.0|          31.0|     268.0|      29.0|      15.0001|          500001.0|       35|\n",
            "|  -118.34|   34.08|     1721.0|         195.0|     688.0|     196.0|      15.0001|          500001.0|       52|\n",
            "|  -118.06|   33.72|     2665.0|         331.0|     964.0|     319.0|      15.0001|          500001.0|       14|\n",
            "|  -118.19|   34.19|     2061.0|         260.0|     825.0|     254.0|      15.0001|          500001.0|       34|\n",
            "|  -118.33|   34.06|     1841.0|         240.0|     693.0|     218.0|      15.0001|          500001.0|       52|\n",
            "|  -118.32|   34.06|      955.0|         100.0|     457.0|     120.0|      15.0001|          500001.0|       52|\n",
            "|  -117.23|   32.99|     2718.0|         326.0|    1011.0|     319.0|      15.0001|          500001.0|       17|\n",
            "|  -118.33|   34.07|     2248.0|         255.0|     813.0|     265.0|      15.0001|          500001.0|       52|\n",
            "|  -118.18|   34.19|     1371.0|         164.0|     528.0|     155.0|      15.0001|          500001.0|       48|\n",
            "|  -118.12|   34.12|     2907.0|         317.0|     956.0|     279.0|      15.0001|          500001.0|       52|\n",
            "+---------+--------+-----------+--------------+----------+----------+-------------+------------------+---------+\n",
            "\n"
          ]
        }
      ],
      "source": [
        "treat_df.createOrReplaceTempView(\"house\")\n",
        "\n",
        "sc.sql(\"SELECT * FROM house ORDER BY median_income desc limit 10 \").show()\n",
        "\n",
        "sc.catalog.dropTempView(\"house\")"
      ]
    },
    {
      "cell_type": "code",
      "execution_count": 14,
      "metadata": {
        "id": "flhX0_WwdUO6"
      },
      "outputs": [],
      "source": [
        "def faixa_idade(x): \n",
        "  if x < 1:\n",
        "    return \"new\"\n",
        "  elif x >= 1 and x < 5:\n",
        "    return \"atual house\"\n",
        "  elif x >= 5 and x < 20:\n",
        "    return \"modern house\"\n",
        "  elif x >= 20 and x < 50:\n",
        "    return \"contemporary house\"\n",
        "  else:\n",
        "    return \"old house\"   "
      ]
    },
    {
      "cell_type": "code",
      "execution_count": 15,
      "metadata": {
        "id": "TaAmaHPXhOzk"
      },
      "outputs": [],
      "source": [
        "\n",
        "df3 = treat_df.select(\n",
        "    col(\"*\"),\n",
        "    when(col('house_Age') < 1, 'new')\n",
        "    .when(\n",
        "        (col('house_Age') >= 1) & (col('house_Age') < 5), \"atual house\")\n",
        "    .when(\n",
        "        (col('house_Age') >= 5) & (col('house_Age') < 20), \"modern house\")\n",
        "    .when(\n",
        "        (col('house_Age') >= 20) & (col('house_Age') < 50), \"contemporary house\")\n",
        "    .otherwise(\"old house\").alias(\"range_age_house\")\n",
        "\n",
        ")"
      ]
    },
    {
      "cell_type": "code",
      "execution_count": 16,
      "metadata": {
        "colab": {
          "base_uri": "https://localhost:8080/"
        },
        "id": "D6CtOWeIvD-k",
        "outputId": "d5d31a16-43b8-442f-e34c-6a631a54c5ca"
      },
      "outputs": [
        {
          "output_type": "stream",
          "name": "stdout",
          "text": [
            "+---------+--------+-----------+--------------+----------+----------+-------------+------------------+---------+------------------+\n",
            "|longitude|latitude|total_rooms|total_bedrooms|population|households|median_income|median_house_value|house_age|   range_age_house|\n",
            "+---------+--------+-----------+--------------+----------+----------+-------------+------------------+---------+------------------+\n",
            "|  -114.31|   34.19|     5612.0|        1283.0|    1015.0|     472.0|       1.4936|           66900.0|       15|      modern house|\n",
            "|  -114.47|    34.4|     7650.0|        1901.0|    1129.0|     463.0|         1.82|           80100.0|       19|      modern house|\n",
            "|  -114.56|   33.69|      720.0|         174.0|     333.0|     117.0|       1.6509|           85700.0|       17|      modern house|\n",
            "|  -114.57|   33.64|     1501.0|         337.0|     515.0|     226.0|       3.1917|           73400.0|       14|      modern house|\n",
            "|  -114.57|   33.57|     1454.0|         326.0|     624.0|     262.0|        1.925|           65500.0|       20|contemporary house|\n",
            "|  -114.58|   33.63|     1387.0|         236.0|     671.0|     239.0|       3.3438|           74000.0|       29|contemporary house|\n",
            "|  -114.58|   33.61|     2907.0|         680.0|    1841.0|     633.0|       2.6768|           82400.0|       25|contemporary house|\n",
            "|  -114.59|   34.83|      812.0|         168.0|     375.0|     158.0|       1.7083|           48500.0|       41|contemporary house|\n",
            "|  -114.59|   33.61|     4789.0|        1175.0|    3134.0|    1056.0|       2.1782|           58400.0|       34|contemporary house|\n",
            "|   -114.6|   34.83|     1497.0|         309.0|     787.0|     271.0|       2.1908|           48100.0|       46|contemporary house|\n",
            "+---------+--------+-----------+--------------+----------+----------+-------------+------------------+---------+------------------+\n",
            "only showing top 10 rows\n",
            "\n"
          ]
        }
      ],
      "source": [
        "df3.show(10)"
      ]
    },
    {
      "cell_type": "code",
      "execution_count": 17,
      "metadata": {
        "colab": {
          "base_uri": "https://localhost:8080/"
        },
        "id": "1nxPMA_E5s-j",
        "outputId": "a8b9305e-d206-4853-bf89-0f1c74007b35"
      },
      "outputs": [
        {
          "output_type": "stream",
          "name": "stdout",
          "text": [
            "+---------+--------+-----------+--------------+----------+----------+-------------+------------------+---------+------------------+\n",
            "|longitude|latitude|total_rooms|total_bedrooms|population|households|median_income|median_house_value|house_age|   range_age_house|\n",
            "+---------+--------+-----------+--------------+----------+----------+-------------+------------------+---------+------------------+\n",
            "|  -114.31|   34.19|     5612.0|        1283.0|    1015.0|     472.0|       1.4936|           66900.0|       15|      modern house|\n",
            "|  -114.47|    34.4|     7650.0|        1901.0|    1129.0|     463.0|         1.82|           80100.0|       19|      modern house|\n",
            "|  -114.56|   33.69|      720.0|         174.0|     333.0|     117.0|       1.6509|           85700.0|       17|      modern house|\n",
            "|  -114.57|   33.64|     1501.0|         337.0|     515.0|     226.0|       3.1917|           73400.0|       14|      modern house|\n",
            "|  -114.57|   33.57|     1454.0|         326.0|     624.0|     262.0|        1.925|           65500.0|       20|contemporary house|\n",
            "|  -114.58|   33.63|     1387.0|         236.0|     671.0|     239.0|       3.3438|           74000.0|       29|contemporary house|\n",
            "|  -114.58|   33.61|     2907.0|         680.0|    1841.0|     633.0|       2.6768|           82400.0|       25|contemporary house|\n",
            "|  -114.59|   34.83|      812.0|         168.0|     375.0|     158.0|       1.7083|           48500.0|       41|contemporary house|\n",
            "|  -114.59|   33.61|     4789.0|        1175.0|    3134.0|    1056.0|       2.1782|           58400.0|       34|contemporary house|\n",
            "|   -114.6|   34.83|     1497.0|         309.0|     787.0|     271.0|       2.1908|           48100.0|       46|contemporary house|\n",
            "+---------+--------+-----------+--------------+----------+----------+-------------+------------------+---------+------------------+\n",
            "only showing top 10 rows\n",
            "\n"
          ]
        }
      ],
      "source": [
        "treat_df.withColumn('range_age_house', expr(\n",
        "    \"CASE \"\n",
        "    +\"WHEN house_age = 1 THEN 'new' \"\n",
        "    +\"WHEN house_age >= 1 AND house_age < 5 THEN 'atual_house' \"\n",
        "    +\"WHEN house_age >= 5 AND house_age < 20 THEN 'modern house' \"\n",
        "    +\"WHEN house_age >= 20 AND house_age < 50 THEN 'contemporary house' \"\n",
        "    +\"ELSE 'old house' \"\n",
        "    +\"END\")\n",
        ").show(10)"
      ]
    },
    {
      "cell_type": "markdown",
      "metadata": {
        "id": "10o8jhMW-83j"
      },
      "source": [
        "### **FILTER in PYSpark**"
      ]
    },
    {
      "cell_type": "code",
      "execution_count": 18,
      "metadata": {
        "colab": {
          "base_uri": "https://localhost:8080/"
        },
        "id": "ImWrl0cb9Ptx",
        "outputId": "86f337b3-1245-458e-b220-85a82847fcff"
      },
      "outputs": [
        {
          "output_type": "stream",
          "name": "stdout",
          "text": [
            "+---------+--------+-----------+--------------+----------+----------+-------------+------------------+---------+---------------+\n",
            "|longitude|latitude|total_rooms|total_bedrooms|population|households|median_income|median_house_value|house_age|range_age_house|\n",
            "+---------+--------+-----------+--------------+----------+----------+-------------+------------------+---------+---------------+\n",
            "+---------+--------+-----------+--------------+----------+----------+-------------+------------------+---------+---------------+\n",
            "\n"
          ]
        }
      ],
      "source": [
        "df3.filter(\"range_age_house == 'new'\").show()"
      ]
    },
    {
      "cell_type": "code",
      "execution_count": 19,
      "metadata": {
        "colab": {
          "base_uri": "https://localhost:8080/"
        },
        "id": "HQ49jsiR-k3O",
        "outputId": "87bb481f-1079-462f-d42a-3978a3ad77d9"
      },
      "outputs": [
        {
          "output_type": "stream",
          "name": "stdout",
          "text": [
            "+---------+--------+-----------+--------------+----------+----------+-------------+------------------+---------+---------------+\n",
            "|longitude|latitude|total_rooms|total_bedrooms|population|households|median_income|median_house_value|house_age|range_age_house|\n",
            "+---------+--------+-----------+--------------+----------+----------+-------------+------------------+---------+---------------+\n",
            "|-116.88  |34.08   |3419.0     |777.0         |710.0     |265.0     |3.9028       |128600.0          |52       |old house      |\n",
            "|-117.1   |32.76   |2606.0     |426.0         |883.0     |380.0     |4.2813       |270800.0          |52       |old house      |\n",
            "|-117.11  |32.77   |1506.0     |233.0         |478.0     |240.0     |4.3875       |300000.0          |52       |old house      |\n",
            "|-117.11  |32.77   |1484.0     |224.0         |498.0     |223.0     |6.6053       |331400.0          |52       |old house      |\n",
            "|-117.11  |32.77   |1729.0     |355.0         |617.0     |337.0     |3.6705       |167000.0          |50       |old house      |\n",
            "|-117.11  |32.67   |280.0      |71.0          |217.0     |71.0      |1.4844       |83300.0           |52       |old house      |\n",
            "|-117.11  |32.67   |204.0      |74.0          |248.0     |57.0      |1.7961       |47500.0           |52       |old house      |\n",
            "|-117.12  |32.74   |1969.0     |389.0         |877.0     |424.0     |3.79         |163400.0          |52       |old house      |\n",
            "|-117.12  |32.73   |2307.0     |424.0         |887.0     |356.0     |3.5156       |168800.0          |50       |old house      |\n",
            "|-117.13  |32.75   |1476.0     |354.0         |698.0     |354.0     |3.0          |168800.0          |50       |old house      |\n",
            "+---------+--------+-----------+--------------+----------+----------+-------------+------------------+---------+---------------+\n",
            "only showing top 10 rows\n",
            "\n"
          ]
        }
      ],
      "source": [
        "df3.filter(col(\"range_age_house\") == 'old house').show(10, truncate = False)"
      ]
    },
    {
      "cell_type": "code",
      "execution_count": 22,
      "metadata": {
        "colab": {
          "base_uri": "https://localhost:8080/"
        },
        "id": "ZvWEPDBF-6az",
        "outputId": "5af8e55c-05be-464c-b3de-0b7586e97458"
      },
      "outputs": [
        {
          "output_type": "stream",
          "name": "stdout",
          "text": [
            "+------------------+-------+---------------+------------------+\n",
            "|   range_age_house|counter|sum_value_range|  sum_income_range|\n",
            "+------------------+-------+---------------+------------------+\n",
            "|      modern house|   4568|   8.75698001E8|18844.772299999957|\n",
            "|       atual house|    258|    5.9676416E7|1351.0287000000008|\n",
            "|         old house|   1196|   3.24548061E8| 4654.436500000001|\n",
            "|contemporary house|  10978|  2.264193032E9| 41170.59019999987|\n",
            "+------------------+-------+---------------+------------------+\n",
            "\n"
          ]
        }
      ],
      "source": [
        "df3.groupBy('range_age_house').agg(\n",
        "    count(\"house_age\").alias(\"counter\"), \n",
        "    sumerize(\"median_house_value\").alias(\"sum_value_range\"),\n",
        "    sumerize('median_income').alias(\"sum_income_range\")\n",
        "    ).show()"
      ]
    },
    {
      "cell_type": "code",
      "execution_count": 23,
      "metadata": {
        "colab": {
          "base_uri": "https://localhost:8080/"
        },
        "id": "-G8Xu0RqN4YH",
        "outputId": "d8934f45-ed18-46ee-d860-ebbd3e5a3dbe"
      },
      "outputs": [
        {
          "output_type": "stream",
          "name": "stdout",
          "text": [
            "root\n",
            " |-- longitude: double (nullable = true)\n",
            " |-- latitude: double (nullable = true)\n",
            " |-- housing_median_age: double (nullable = true)\n",
            " |-- total_rooms: double (nullable = true)\n",
            " |-- total_bedrooms: double (nullable = true)\n",
            " |-- population: double (nullable = true)\n",
            " |-- households: double (nullable = true)\n",
            " |-- median_income: double (nullable = true)\n",
            " |-- median_house_value: double (nullable = true)\n",
            "\n"
          ]
        }
      ],
      "source": [
        "schema = df_spark.printSchema()"
      ]
    },
    {
      "cell_type": "code",
      "execution_count": 24,
      "metadata": {
        "colab": {
          "base_uri": "https://localhost:8080/"
        },
        "id": "jvJtl3dSMkKB",
        "outputId": "ceb1bbdc-5fba-4e40-ddf8-4a585e3c92be"
      },
      "outputs": [
        {
          "output_type": "execute_result",
          "data": {
            "text/plain": [
              "['longitude',\n",
              " 'latitude',\n",
              " 'housing_median_age',\n",
              " 'total_rooms',\n",
              " 'total_bedrooms',\n",
              " 'population',\n",
              " 'households',\n",
              " 'median_income',\n",
              " 'median_house_value']"
            ]
          },
          "metadata": {},
          "execution_count": 24
        }
      ],
      "source": [
        "df_spark.columns"
      ]
    },
    {
      "cell_type": "markdown",
      "source": [
        "SELECT"
      ],
      "metadata": {
        "id": "cPFXTboelVqu"
      }
    },
    {
      "cell_type": "code",
      "execution_count": 25,
      "metadata": {
        "colab": {
          "base_uri": "https://localhost:8080/"
        },
        "id": "UdoawhWmMwex",
        "outputId": "b3798134-ea66-4127-a390-cceddf31bd01"
      },
      "outputs": [
        {
          "output_type": "stream",
          "name": "stdout",
          "text": [
            "+---------+\n",
            "|longitude|\n",
            "+---------+\n",
            "|  -114.31|\n",
            "|  -114.47|\n",
            "|  -114.56|\n",
            "|  -114.57|\n",
            "|  -114.57|\n",
            "+---------+\n",
            "only showing top 5 rows\n",
            "\n"
          ]
        }
      ],
      "source": [
        "df_spark.select(col(\"longitude\")).show(5)"
      ]
    },
    {
      "cell_type": "code",
      "source": [
        "df_spark.select(df_spark.longitude, df_spark.latitude).show(5)"
      ],
      "metadata": {
        "colab": {
          "base_uri": "https://localhost:8080/"
        },
        "id": "W3xl8Q-elnuV",
        "outputId": "dfabd6f8-62d9-4ff7-b9b8-8cf8ced71cb8"
      },
      "execution_count": 26,
      "outputs": [
        {
          "output_type": "stream",
          "name": "stdout",
          "text": [
            "+---------+--------+\n",
            "|longitude|latitude|\n",
            "+---------+--------+\n",
            "|  -114.31|   34.19|\n",
            "|  -114.47|    34.4|\n",
            "|  -114.56|   33.69|\n",
            "|  -114.57|   33.64|\n",
            "|  -114.57|   33.57|\n",
            "+---------+--------+\n",
            "only showing top 5 rows\n",
            "\n"
          ]
        }
      ]
    },
    {
      "cell_type": "code",
      "source": [
        "df_spark.select(['longitude',\n",
        " 'latitude',\n",
        " 'housing_median_age',\n",
        " 'total_rooms',\n",
        " 'total_bedrooms',\n",
        " 'population']).show()"
      ],
      "metadata": {
        "colab": {
          "base_uri": "https://localhost:8080/"
        },
        "id": "8vvsY7bqArNQ",
        "outputId": "006a8081-6246-4ac9-cbab-b6c345979677"
      },
      "execution_count": 27,
      "outputs": [
        {
          "output_type": "stream",
          "name": "stdout",
          "text": [
            "+---------+--------+------------------+-----------+--------------+----------+\n",
            "|longitude|latitude|housing_median_age|total_rooms|total_bedrooms|population|\n",
            "+---------+--------+------------------+-----------+--------------+----------+\n",
            "|  -114.31|   34.19|              15.0|     5612.0|        1283.0|    1015.0|\n",
            "|  -114.47|    34.4|              19.0|     7650.0|        1901.0|    1129.0|\n",
            "|  -114.56|   33.69|              17.0|      720.0|         174.0|     333.0|\n",
            "|  -114.57|   33.64|              14.0|     1501.0|         337.0|     515.0|\n",
            "|  -114.57|   33.57|              20.0|     1454.0|         326.0|     624.0|\n",
            "|  -114.58|   33.63|              29.0|     1387.0|         236.0|     671.0|\n",
            "|  -114.58|   33.61|              25.0|     2907.0|         680.0|    1841.0|\n",
            "|  -114.59|   34.83|              41.0|      812.0|         168.0|     375.0|\n",
            "|  -114.59|   33.61|              34.0|     4789.0|        1175.0|    3134.0|\n",
            "|   -114.6|   34.83|              46.0|     1497.0|         309.0|     787.0|\n",
            "|   -114.6|   33.62|              16.0|     3741.0|         801.0|    2434.0|\n",
            "|   -114.6|    33.6|              21.0|     1988.0|         483.0|    1182.0|\n",
            "|  -114.61|   34.84|              48.0|     1291.0|         248.0|     580.0|\n",
            "|  -114.61|   34.83|              31.0|     2478.0|         464.0|    1346.0|\n",
            "|  -114.63|   32.76|              15.0|     1448.0|         378.0|     949.0|\n",
            "|  -114.65|   34.89|              17.0|     2556.0|         587.0|    1005.0|\n",
            "|  -114.65|    33.6|              28.0|     1678.0|         322.0|     666.0|\n",
            "|  -114.65|   32.79|              21.0|       44.0|          33.0|      64.0|\n",
            "|  -114.66|   32.74|              17.0|     1388.0|         386.0|     775.0|\n",
            "|  -114.67|   33.92|              17.0|       97.0|          24.0|      29.0|\n",
            "+---------+--------+------------------+-----------+--------------+----------+\n",
            "only showing top 20 rows\n",
            "\n"
          ]
        }
      ]
    },
    {
      "cell_type": "code",
      "source": [],
      "metadata": {
        "id": "sWS3Id1pmVK4"
      },
      "execution_count": 27,
      "outputs": []
    },
    {
      "cell_type": "markdown",
      "source": [
        "Lenght"
      ],
      "metadata": {
        "id": "NA9aDjqnmWuw"
      }
    },
    {
      "cell_type": "code",
      "source": [
        "# utlizando a função lenght para medir o tamanho de uma string\n",
        "te = sparkDF.withColumn(\"len\", length(\"Address\"))"
      ],
      "metadata": {
        "id": "6oFMKcguA6z1"
      },
      "execution_count": 32,
      "outputs": []
    },
    {
      "cell_type": "code",
      "source": [
        "te.select(col(\"len\"),"
      ],
      "metadata": {
        "id": "qjFiK2Tmpc2i",
        "colab": {
          "base_uri": "https://localhost:8080/"
        },
        "outputId": "b10f43fd-153a-411c-9c59-ca1d28541c4c"
      },
      "execution_count": 56,
      "outputs": [
        {
          "output_type": "stream",
          "name": "stdout",
          "text": [
            "[Column<b'len'>]\n"
          ]
        }
      ]
    },
    {
      "cell_type": "code",
      "source": [],
      "metadata": {
        "id": "Hf_iAgMWpc9B"
      },
      "execution_count": null,
      "outputs": []
    },
    {
      "cell_type": "code",
      "execution_count": null,
      "metadata": {
        "id": "A70Vc0dLp2WD"
      },
      "outputs": [],
      "source": [
        "\n",
        "# carregar dados do Airbnb\n",
        "df_spark = sc.read.csv(\"/content/sample_data/california_housing_train.csv\", inferSchema=True, header=True)\n",
        "sparkDF=sc.createDataFrame(test) \n",
        "\n",
        "# ver algumas informações sobre os tipos de dados de cada coluna\n",
        "print(\"primeiro dataframe\")\n",
        "df_spark.printSchema()\n",
        "print(\"segundo dataframe\")\n",
        "sparkDF.printSchema()\n",
        "\n",
        " "
      ]
    },
    {
      "cell_type": "markdown",
      "source": [
        "## MERGE"
      ],
      "metadata": {
        "id": "hfFpB-r9pdQr"
      }
    },
    {
      "cell_type": "code",
      "source": [
        "df_spark.join(sparkDF, df_spark.median_house_value == sparkDF.Price, \"leftouter\").show()"
      ],
      "metadata": {
        "id": "qw35OBzCph5l"
      },
      "execution_count": null,
      "outputs": []
    },
    {
      "cell_type": "code",
      "source": [],
      "metadata": {
        "id": "AOj7Ii3sq33U"
      },
      "execution_count": null,
      "outputs": []
    },
    {
      "cell_type": "code",
      "source": [
        "df_spark.join(sparkDF, df_spark.median_house_value == sparkDF.Price, \"right\").show()"
      ],
      "metadata": {
        "id": "klN1mV3dq58R"
      },
      "execution_count": null,
      "outputs": []
    }
  ],
  "metadata": {
    "colab": {
      "collapsed_sections": [],
      "provenance": [],
      "authorship_tag": "ABX9TyOyU22oQJfa2xnNzHNvvwFP",
      "include_colab_link": true
    },
    "kernelspec": {
      "display_name": "Python 3",
      "name": "python3"
    },
    "language_info": {
      "name": "python"
    }
  },
  "nbformat": 4,
  "nbformat_minor": 0
}